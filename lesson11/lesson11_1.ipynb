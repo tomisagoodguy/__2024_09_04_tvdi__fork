{
 "cells": [
  {
   "cell_type": "code",
   "execution_count": null,
   "metadata": {},
   "outputs": [
    {
     "data": {
      "text/plain": [
       "'相加後的值是8'"
      ]
     },
     "execution_count": 2,
     "metadata": {},
     "output_type": "execute_result"
    }
   ],
   "source": [
    "## python decorator\n",
    "## Function可以有資料類型\n",
    "## function可以當作別的function的引數值\n",
    "from typing import Callable\n",
    "\n",
    "MyFunctionType = Callable[[int,int],str]\n",
    "\n",
    "\n",
    "def my_function(a:int, b:int) -> str:\n",
    "    return f\"相加後的值是{a + b}\"\n",
    "\n",
    "def apply_function(func:MyFunctionType,x:int,y:int) -> str:\n",
    "    return func(x, y)\n",
    "\n",
    "apply_function(my_function,3,5)\n",
    "\n"
   ]
  },
  {
   "cell_type": "code",
   "execution_count": 3,
   "metadata": {},
   "outputs": [
    {
     "name": "stdout",
     "output_type": "stream",
     "text": [
      "sayHello!\n"
     ]
    }
   ],
   "source": [
    "def greet():\n",
    "    print('sayHello!')\n",
    "\n",
    "say_hello = greet\n",
    "say_hello()"
   ]
  },
  {
   "cell_type": "code",
   "execution_count": null,
   "metadata": {},
   "outputs": [],
   "source": [
    "def outter_function():\n",
    "    print(\"這是outterFunction\")\n",
    "    def inner_function():\n",
    "        print(\"這是innerFunction\")\n",
    "\n",
    "    return inner_function"
   ]
  },
  {
   "cell_type": "code",
   "execution_count": 5,
   "metadata": {},
   "outputs": [
    {
     "name": "stdout",
     "output_type": "stream",
     "text": [
      "這是outterFunction\n"
     ]
    }
   ],
   "source": [
    "my_func = outter_function()\n"
   ]
  },
  {
   "cell_type": "code",
   "execution_count": 6,
   "metadata": {},
   "outputs": [
    {
     "name": "stdout",
     "output_type": "stream",
     "text": [
      "這是innerFunction\n"
     ]
    }
   ],
   "source": [
    "my_func()"
   ]
  },
  {
   "cell_type": "code",
   "execution_count": null,
   "metadata": {},
   "outputs": [
    {
     "name": "stdout",
     "output_type": "stream",
     "text": [
      "前面增加功能\n",
      "Hello!\n",
      "後面增加的功能\n"
     ]
    }
   ],
   "source": [
    "def say_hello():\n",
    "    print(\"Hello!\")\n",
    "\n",
    "#建立一個function,這個function會擴充say_hello()的功能\n",
    "#decorator_function\n",
    "def decorator_function(original_function):\n",
    "    def wrapper_function():\n",
    "        print(\"前面增加功能\")\n",
    "        original_function()\n",
    "        print(\"後面增加的功能\")\n",
    "    return wrapper_function\n",
    "\n",
    "my_func = decorator_function(say_hello)\n",
    "my_func()"
   ]
  },
  {
   "cell_type": "code",
   "execution_count": 10,
   "metadata": {},
   "outputs": [
    {
     "name": "stdout",
     "output_type": "stream",
     "text": [
      "前面增加功能\n",
      "Hello!\n",
      "後面增加的功能\n"
     ]
    }
   ],
   "source": [
    "def decorator_function(original_function):\n",
    "    def wrapper_function():\n",
    "        print(\"前面增加功能\")\n",
    "        original_function()\n",
    "        print(\"後面增加的功能\")\n",
    "    return wrapper_function\n",
    "\n",
    "@decorator_function\n",
    "def abc():\n",
    "    print(\"Hello!\")\n",
    "\n",
    "abc()"
   ]
  },
  {
   "cell_type": "code",
   "execution_count": 12,
   "metadata": {},
   "outputs": [
    {
     "name": "stdout",
     "output_type": "stream",
     "text": [
      "function執行完畢!\n",
      "slow_function花費多少時間2.0053\n"
     ]
    }
   ],
   "source": [
    "import time\n",
    "def timer_decorator(func):\n",
    "    def wrapper():\n",
    "        start_time = time.time()\n",
    "        func()\n",
    "        end_time = time.time()\n",
    "        print(f'{func.__name__}花費多少時間{end_time-start_time:.4f}')\n",
    "    return wrapper\n",
    "\n",
    "@timer_decorator\n",
    "def slow_function():\n",
    "    time.sleep(2)\n",
    "    print(\"function執行完畢!\")\n",
    "\n",
    "\n",
    "slow_function()"
   ]
  }
 ],
 "metadata": {
  "kernelspec": {
   "display_name": "tvdi",
   "language": "python",
   "name": "python3"
  },
  "language_info": {
   "codemirror_mode": {
    "name": "ipython",
    "version": 3
   },
   "file_extension": ".py",
   "mimetype": "text/x-python",
   "name": "python",
   "nbconvert_exporter": "python",
   "pygments_lexer": "ipython3",
   "version": "3.11.10"
  }
 },
 "nbformat": 4,
 "nbformat_minor": 2
}
