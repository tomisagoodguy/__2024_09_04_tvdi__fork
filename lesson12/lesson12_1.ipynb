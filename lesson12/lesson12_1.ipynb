{
 "cells": [
  {
   "cell_type": "code",
   "execution_count": 12,
   "metadata": {},
   "outputs": [],
   "source": [
    "from dotenv import load_dotenv\n",
    "import os\n",
    "import requests\n",
    "load_dotenv()\n",
    "def get_aqi_str(aqi_key:str)->str:\n",
    "    url = f'https://data.moenv.gov.tw/api/v2/aqx_p_488?api_key={aqi_key}&limit=1000&sort=datacreationdate desc&format=JSON'\n",
    "    try:\n",
    "        r = requests.get(url)\n",
    "        r.raise_for_status()\n",
    "    except Exception as e:\n",
    "        print(f\"發生錯誤:{e}\")\n",
    "    return r.text\n",
    "\n",
    "aqi_data:str = get_aqi_str(aqi_key=os.environ['AQI_KEY'])\n"
   ]
  },
  {
   "cell_type": "code",
   "execution_count": 14,
   "metadata": {},
   "outputs": [
    {
     "data": {
      "text/plain": [
       "AQI(resource_id='303ccf22-3536-454c-877e-085cf0e88a57', include_total=True, total=5784004, resource_format='object', limit=1000, offset=0)"
      ]
     },
     "execution_count": 14,
     "metadata": {},
     "output_type": "execute_result"
    }
   ],
   "source": [
    "from pydantic import BaseModel\n",
    "class AQI(BaseModel):\n",
    "    resource_id: str\n",
    "    include_total: bool\n",
    "    total: int\n",
    "    resource_format: str\n",
    "    limit: int\n",
    "    offset: int\n",
    "\n",
    "aqi:AQI = AQI.model_validate_json(aqi_data)\n",
    "aqi"
   ]
  },
  {
   "cell_type": "code",
   "execution_count": null,
   "metadata": {},
   "outputs": [
    {
     "data": {
      "text/plain": [
       "dict"
      ]
     },
     "execution_count": 16,
     "metadata": {},
     "output_type": "execute_result"
    }
   ],
   "source": [
    "#Serializing\n",
    "#把pydantic的實體轉換為python的資料結構\n",
    "aqi.model_dump()"
   ]
  },
  {
   "cell_type": "code",
   "execution_count": null,
   "metadata": {},
   "outputs": [
    {
     "name": "stdout",
     "output_type": "stream",
     "text": [
      "'{\"resource_id\":\"303ccf22-3536-454c-877e-085cf0e88a57\",\"include_total\":true,\"total\":5784004,\"resource_format\":\"object\",\"limit\":1000,\"offset\":0}'\n"
     ]
    }
   ],
   "source": [
    "#Serializing\n",
    "#把pydantic的實體轉換為json格式的字串\n",
    "\n",
    "aqi.model_dump_json()"
   ]
  }
 ],
 "metadata": {
  "kernelspec": {
   "display_name": "tvdi",
   "language": "python",
   "name": "python3"
  },
  "language_info": {
   "codemirror_mode": {
    "name": "ipython",
    "version": 3
   },
   "file_extension": ".py",
   "mimetype": "text/x-python",
   "name": "python",
   "nbconvert_exporter": "python",
   "pygments_lexer": "ipython3",
   "version": "3.11.10"
  }
 },
 "nbformat": 4,
 "nbformat_minor": 2
}
