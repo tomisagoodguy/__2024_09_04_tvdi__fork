{
 "cells": [
  {
   "cell_type": "code",
   "execution_count": 1,
   "metadata": {},
   "outputs": [
    {
     "data": {
      "text/plain": [
       "'2.8.2'"
      ]
     },
     "execution_count": 1,
     "metadata": {},
     "output_type": "execute_result"
    }
   ],
   "source": [
    "import pydantic\n",
    "pydantic.__version__"
   ]
  },
  {
   "cell_type": "code",
   "execution_count": null,
   "metadata": {},
   "outputs": [
    {
     "data": {
      "text/plain": [
       "('John', 'smith', '42')"
      ]
     },
     "execution_count": 4,
     "metadata": {},
     "output_type": "execute_result"
    }
   ],
   "source": [
    "class Person:\n",
    "    def __init__(self,f_name:str,l_name:str,age:int):\n",
    "        self.first_name = f_name\n",
    "        self.last_name = l_name\n",
    "        self.age = age\n",
    "\n",
    "\n",
    "p1:Person = Person(\"John\",\"smith\",\"42\")\n",
    "\n",
    "p1.first_name, p1.last_name, p1.age"
   ]
  },
  {
   "cell_type": "code",
   "execution_count": 8,
   "metadata": {},
   "outputs": [
    {
     "data": {
      "text/plain": [
       "('John', 'Smith', 42)"
      ]
     },
     "execution_count": 8,
     "metadata": {},
     "output_type": "execute_result"
    }
   ],
   "source": [
    "from pydantic import BaseModel\n",
    "class Person(BaseModel):\n",
    "    #field(欄位)\n",
    "    first_name:str\n",
    "    last_name:str\n",
    "    age:int\n",
    "\n",
    "p1=Person(first_name='John',last_name='Smith',age=\"42\")\n",
    "p1.first_name, p1.last_name, p1.age\n"
   ]
  },
  {
   "cell_type": "code",
   "execution_count": 10,
   "metadata": {},
   "outputs": [
    {
     "name": "stdout",
     "output_type": "stream",
     "text": [
      "1 validation error for Person\n",
      "age\n",
      "  Input should be a valid integer, unable to parse string as an integer [type=int_parsing, input_value='42a', input_type=str]\n",
      "    For further information visit https://errors.pydantic.dev/2.8/v/int_parsing\n"
     ]
    }
   ],
   "source": [
    "from pydantic import ValidationError\n",
    "try:\n",
    "    p1=Person(first_name='John',last_name='Smith',age=\"42a\")\n",
    "except ValidationError as e:\n",
    "    print(e)"
   ]
  },
  {
   "cell_type": "code",
   "execution_count": null,
   "metadata": {},
   "outputs": [
    {
     "data": {
      "text/plain": [
       "('John', 'Smith', 42)"
      ]
     },
     "execution_count": 13,
     "metadata": {},
     "output_type": "execute_result"
    }
   ],
   "source": [
    "#dict\n",
    "dict_data:dict[str,any] = {\n",
    "    \"first_name\":\"John\",\n",
    "    \"last_name\":\"Smith\",\n",
    "    \"age\":42\n",
    "}\n",
    "p2:Person = Person.model_validate(dict_data)\n",
    "p2.first_name, p2.last_name, p2.age"
   ]
  },
  {
   "cell_type": "code",
   "execution_count": 15,
   "metadata": {},
   "outputs": [
    {
     "data": {
      "text/plain": [
       "('John', 'Smith', 42)"
      ]
     },
     "execution_count": 15,
     "metadata": {},
     "output_type": "execute_result"
    }
   ],
   "source": [
    "#json格式的字串\n",
    "data_json:str = '''\n",
    "{\n",
    "\"first_name\":\"John\",\n",
    "\"last_name\":\"Smith\",\n",
    "\"age\":42\n",
    "}\n",
    "'''\n",
    "\n",
    "p3 = Person.model_validate_json(data_json)\n",
    "p3.first_name, p3.last_name, p3.age"
   ]
  },
  {
   "cell_type": "code",
   "execution_count": null,
   "metadata": {},
   "outputs": [],
   "source": [
    "class Person(BaseModel):\n",
    "    #field(欄位)\n",
    "    first_name:str\n",
    "    last_name:str\n",
    "    age:int\n",
    "\n",
    "Person.model_validate({'age':42})"
   ]
  },
  {
   "cell_type": "code",
   "execution_count": 19,
   "metadata": {},
   "outputs": [
    {
     "data": {
      "text/plain": [
       "0"
      ]
     },
     "execution_count": 19,
     "metadata": {},
     "output_type": "execute_result"
    }
   ],
   "source": [
    "class Person(BaseModel):\n",
    "    #field(欄位)\n",
    "    first_name:str\n",
    "    last_name:str\n",
    "    age:int = 0\n",
    "\n",
    "p4 = Person.model_validate({\n",
    "    'first_name':'John',\n",
    "    'last_name':'Smith'\n",
    "})\n",
    "\n",
    "p4.age"
   ]
  },
  {
   "cell_type": "code",
   "execution_count": 20,
   "metadata": {},
   "outputs": [
    {
     "data": {
      "text/plain": [
       "{'first_name': FieldInfo(annotation=Union[str, NoneType], required=False, default=None),\n",
       " 'last_name': FieldInfo(annotation=str, required=True),\n",
       " 'age': FieldInfo(annotation=int, required=False, default=0)}"
      ]
     },
     "execution_count": 20,
     "metadata": {},
     "output_type": "execute_result"
    }
   ],
   "source": [
    "#Nullable Fields(可以存None的欄位)\n",
    "class Person(BaseModel):\n",
    "    first_name: str | None = None #optional同時nullable\n",
    "    last_name:str #require\n",
    "    age: int = 0 #optinal\n",
    "\n",
    "Person.model_fields\n"
   ]
  },
  {
   "cell_type": "code",
   "execution_count": 21,
   "metadata": {},
   "outputs": [
    {
     "data": {
      "text/plain": [
       "Person(first_name=None, last_name='Smith', age=0)"
      ]
     },
     "execution_count": 21,
     "metadata": {},
     "output_type": "execute_result"
    }
   ],
   "source": [
    "p5 = Person.model_validate({\n",
    "    \"last_name\":\"Smith\"\n",
    "})\n",
    "p5\n"
   ]
  },
  {
   "cell_type": "code",
   "execution_count": 23,
   "metadata": {},
   "outputs": [
    {
     "data": {
      "text/plain": [
       "Person(id_=100, first_name='John', last_name='Smith', age=42)"
      ]
     },
     "execution_count": 23,
     "metadata": {},
     "output_type": "execute_result"
    }
   ],
   "source": [
    "data = {\n",
    "    \"id\":100,\n",
    "    \"First Name\":\"John\",\n",
    "    \"LASTNAME\":\"Smith\",\n",
    "    \"age in years\":42\n",
    "}\n",
    "\n",
    "#利用Field class建立欄位名稱的小名\n",
    "from pydantic import Field\n",
    "class Person(BaseModel):\n",
    "    id_: int = Field(alias=\"id\")\n",
    "    first_name: str = Field(alias='First Name')\n",
    "    last_name: str = Field(alias='LASTNAME')\n",
    "    age: int = Field(alias='age in years',default=0)\n",
    "\n",
    "p6 = Person.model_validate(data)\n",
    "p6"
   ]
  }
 ],
 "metadata": {
  "kernelspec": {
   "display_name": "tvdi",
   "language": "python",
   "name": "python3"
  },
  "language_info": {
   "codemirror_mode": {
    "name": "ipython",
    "version": 3
   },
   "file_extension": ".py",
   "mimetype": "text/x-python",
   "name": "python",
   "nbconvert_exporter": "python",
   "pygments_lexer": "ipython3",
   "version": "3.11.10"
  }
 },
 "nbformat": 4,
 "nbformat_minor": 2
}
