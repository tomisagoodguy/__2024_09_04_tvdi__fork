{
 "cells": [
  {
   "cell_type": "code",
   "execution_count": 3,
   "metadata": {},
   "outputs": [
    {
     "name": "stdout",
     "output_type": "stream",
     "text": [
      "Assigned customers for Sales_A: ['Noctua', 'NZXT']\n",
      "Assigned customers for Sales_B: ['Foxconn', 'AeroCool', 'Arctic', 'Antec']\n",
      "Assigned customers for Sales_C: ['Fractal_Design', 'DeepCool']\n",
      "Assigned customers for Sales_D: ['Cougar', 'Nidec']\n",
      "Assigned customers for Sales_E: ['Be_Quiet', 'Cooler_Master', 'Scythe']\n"
     ]
    }
   ],
   "source": [
    "import sys\n",
    "\n",
    "def generate_sales_data_with_debug(csv_filename='sales_orders.csv', db_filename='sales_orders.db', table_name='sales_orders'):\n",
    "    sales_ids = ['Sales_A', 'Sales_B', 'Sales_C', 'Sales_D', 'Sales_E']\n",
    "    sales_names = ['Alice', 'Bob', 'Charlie', 'David', 'Eve']\n",
    "    customer_ids = [\n",
    "        'Foxconn', 'Delta_Electronics', 'Nidec', 'SanAce', 'Cooler_Master',\n",
    "        'Be_Quiet', 'Noctua', 'Corsair', 'NZXT', 'Arctic',\n",
    "        'Phanteks', 'Thermaltake', 'Fractal_Design', 'Lian_Li', 'DeepCool',\n",
    "        'AeroCool', 'SilverStone', 'Cougar', 'Scythe', 'Antec'\n",
    "    ]\n",
    "    assigned_customers = {}\n",
    "    available_customers = customer_ids[:]\n",
    "\n",
    "    for sales_id in sales_ids:\n",
    "        num_customers = random.randint(2, min(len(available_customers), 6))\n",
    "        customers = random.sample(available_customers, k=num_customers)\n",
    "        assigned_customers[sales_id] = customers\n",
    "        for customer in customers:\n",
    "            available_customers.remove(customer)\n",
    "\n",
    "        # Force print output to stdout\n",
    "        sys.stdout.write(f\"Assigned customers for {sales_id}: {customers}\\n\")\n",
    "    \n",
    "    return assigned_customers\n",
    "\n",
    "# Call the function and observe immediate outputs\n",
    "assigned_customers_debug = generate_sales_data_with_debug()\n"
   ]
  },
  {
   "cell_type": "code",
   "execution_count": 4,
   "metadata": {},
   "outputs": [],
   "source": [
    "  # Generate orders\n",
    "order_ids = [f'2024-{str(i).zfill(2)}' for i in range(1, 51)]\n",
    "\n",
    "def get_week_start(year, week):\n",
    "    \"\"\"Get the start date of a specific week in a given year.\"\"\"\n",
    "    return datetime.strptime(f'{year}-W{str(week).zfill(2)}-1', \"%Y-W%W-%w\")\n",
    "\n",
    "orders = []\n",
    "for order_id in order_ids:\n",
    "    order_week = int(order_id.split('-')[1])\n",
    "    order_week_start = get_week_start(2024, order_week)\n",
    "    order_date = order_week_start - timedelta(weeks=random.choice([1, 2]), days=random.randint(0, 6))\n",
    "    delivery_date = order_week_start + timedelta(weeks=random.choice([4, 5]), days=random.randint(0, 6))\n",
    "    factory = random.choice(['China', 'Vietnam'])\n",
    "    orders.append({\n",
    "        'Order ID': order_id,\n",
    "        'Order Date': order_date.strftime('%Y-%m-%d'),\n",
    "        'Delivery Date': delivery_date.strftime('%Y-%m-%d'),\n",
    "        'Factory': factory\n",
    "    })\n"
   ]
  },
  {
   "cell_type": "code",
   "execution_count": 5,
   "metadata": {},
   "outputs": [
    {
     "ename": "NameError",
     "evalue": "name 'sales_ids' is not defined",
     "output_type": "error",
     "traceback": [
      "\u001b[1;31m---------------------------------------------------------------------------\u001b[0m",
      "\u001b[1;31mNameError\u001b[0m                                 Traceback (most recent call last)",
      "Cell \u001b[1;32mIn[5], line 3\u001b[0m\n\u001b[0;32m      1\u001b[0m \u001b[38;5;66;03m# Generate sales orders\u001b[39;00m\n\u001b[0;32m      2\u001b[0m data \u001b[38;5;241m=\u001b[39m []\n\u001b[1;32m----> 3\u001b[0m \u001b[38;5;28;01mfor\u001b[39;00m sales_id, sales_name \u001b[38;5;129;01min\u001b[39;00m \u001b[38;5;28mzip\u001b[39m(\u001b[43msales_ids\u001b[49m, sales_names):\n\u001b[0;32m      4\u001b[0m     customers \u001b[38;5;241m=\u001b[39m assigned_customers[sales_id]\n\u001b[0;32m      5\u001b[0m     \u001b[38;5;28;01mfor\u001b[39;00m customer_id \u001b[38;5;129;01min\u001b[39;00m customers:\n",
      "\u001b[1;31mNameError\u001b[0m: name 'sales_ids' is not defined"
     ]
    }
   ],
   "source": [
    "# Generate sales orders\n",
    "data = []\n",
    "for sales_id, sales_name in zip(sales_ids, sales_names):\n",
    "    customers = assigned_customers[sales_id]\n",
    "    for customer_id in customers:\n",
    "        num_orders = random.randint(3, 6)  # Each customer has 3–6 orders\n",
    "        for _ in range(num_orders):\n",
    "            order_details = random.choice(orders)\n",
    "            data.append([\n",
    "                sales_id,\n",
    "                sales_name,\n",
    "                customer_id,\n",
    "                order_details['Order ID'],\n",
    "                round(random.uniform(96.1, 99.8), 2),  # Yield Rate\n",
    "                round(random.uniform(950, 1200), 2),  # Thru-put\n",
    "                order_details['Order Date'],\n",
    "                order_details['Delivery Date'],\n",
    "                order_details['Factory']\n",
    "            ])"
   ]
  },
  {
   "cell_type": "code",
   "execution_count": null,
   "metadata": {},
   "outputs": [],
   "source": []
  }
 ],
 "metadata": {
  "kernelspec": {
   "display_name": "tvdi",
   "language": "python",
   "name": "python3"
  },
  "language_info": {
   "codemirror_mode": {
    "name": "ipython",
    "version": 3
   },
   "file_extension": ".py",
   "mimetype": "text/x-python",
   "name": "python",
   "nbconvert_exporter": "python",
   "pygments_lexer": "ipython3",
   "version": "3.11.10"
  }
 },
 "nbformat": 4,
 "nbformat_minor": 2
}
